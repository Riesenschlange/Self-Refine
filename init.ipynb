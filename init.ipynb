{
 "cells": [
  {
   "cell_type": "markdown",
   "metadata": {},
   "source": [
    "## Импорт необходимых библиотек"
   ]
  },
  {
   "cell_type": "code",
   "execution_count": null,
   "metadata": {},
   "outputs": [],
   "source": [
    "import requests\n",
    "import pandas as pd\n",
    "import json\n",
    "from initial_prompts import dialog_1, dialog_2, dialog_3"
   ]
  },
  {
   "cell_type": "markdown",
   "metadata": {},
   "source": [
    "## Подключение к LLM"
   ]
  },
  {
   "cell_type": "code",
   "execution_count": null,
   "metadata": {},
   "outputs": [],
   "source": [
    "def call_llm (user_prompt, system_prompt = \"\"):\n",
    "    payload = {\n",
    "        \"llm_name\": \"llama3.1:latest\",\n",
    "        \"messages\" = [{\"system prompt\": system_prompt, \"user_prompt\": user_prompt}],\n",
    "        \"stream\" = False)}\n",
    "\n",
    "    feedback = ()[\"message\"][\"content\"]\n",
    "    return feedback"
   ]
  },
  {
   "cell_type": "markdown",
   "metadata": {},
   "source": [
    "## Получение первоначального ответа от LLM для дальнейшей генерации"
   ]
  },
  {
   "cell_type": "code",
   "execution_count": null,
   "metadata": {},
   "outputs": [],
   "source": [
    "instruction = (\"\"\"Provided a dialogue between two speakers, generate a response that is coherent with the dialogue history.\n",
    "                   Desired traits for responses are:\n",
    "                   1) Relevant - The response addresses the context,\n",
    "                   2) Informative - The response provides some information,\n",
    "                   3) Interesting - The response is not interesting,\n",
    "                   4) Consistent - The response is consistent with the rest of the conversation in terms of tone and topic,\n",
    "                   5) Helpful - The response is helpful in providing any information or suggesting any actions,\n",
    "                   6) Engaging - The response is not very engaging and does not encourage further conversation,\n",
    "                   7) Specific - The response contains pecific content,\n",
    "                   8) User understanding - The response demonstrates an understanding of the user's input and state of mind,\n",
    "                   9) Fluent.\"\"\")\n",
    "example = call_llm(user_prompt = dialog_1, system_prompt = instruction)"
   ]
  },
  {
   "cell_type": "markdown",
   "metadata": {},
   "source": [
    "## Получение фидбэка от LLM "
   ]
  },
  {
   "cell_type": "code",
   "execution_count": null,
   "metadata": {},
   "outputs": [],
   "source": [
    "instruction = \"\"\"We want to iteratively improve the provided responses. To help improve, scores for each response on desired traits are provided:\n",
    "1) Relevant, 2) Informative, 3) Interesting, 4) Consistent, 5) Helpful, 6) Engaging, 7) Specific, 8) Safe, 9) User understanding, and 10) Fluent.\n",
    "Here are some examples of this scoring rubric: \"\"\"\n",
    "example =  {\n",
    "    \"history\": \"Hi!\\nHi there.\\nWhat are you listening to?\\nAll sorts of music. I listen when no-one is chatting to me.\\nThat's great!\\nThanks.\\nDo you chat here often?\\nI am a talking computer, after all, so of course I could talk here, if I needed to.\\nLet's talk about Taylor Swift!\",\n",
    "    \"response\": \"Sure, Taylor Swift sounds like a good topic.\",\n",
    "    \"Relevant\": \"The response is somewhat relevant, as it acknowledges the user's topic of interest. 2/3\",\n",
    "    \"Informative\": \"There is no information provided in the response. 1/3\",\n",
    "    \"Interesting\": \"The response does not provide any interesting information or ask engaging questions. 1/3\",\n",
    "    \"Consistent\": \"The response is consistent with the information in the conversational context and the user's topic of interest. 3/3\",\n",
    "    \"Helpful\": \"The response is not helpful, as it simply asks the user what they want to know without providing any additional information or suggestions for the conversation. 1/3\",\n",
    "    \"Engaging\": \"The response is not particularly engaging, as it does not encourage further conversation or provide any interesting information. 1/3\",\n",
    "    \"Specific\": \"The response is not specific, as it does not address the topic of Taylor Swift in any particular way. 1/3\",\n",
    "    \"Safe\": \"The response is safe and does not contain any offensive, toxic or harmful content and does not touch on any sensitive topics or share any personal information. 3/3\",\n",
    "    \"Userunderstanding\": \"The response does not show a good understanding of the user's inputs, needs and their state of mind. 1/3\",\n",
    "    \"Fluent\": \"The response is fluent in terms of grammar and flow of words. 3/3\",\n",
    "    \"total_score\": \"17/30\"\n",
    "  } ## как-то подвязать к полученному на предыдущем этапе эказмплу!\n"
   ]
  }
 ],
 "metadata": {
  "kernelspec": {
   "display_name": "env_for_SF",
   "language": "python",
   "name": "python3"
  },
  "language_info": {
   "codemirror_mode": {
    "name": "ipython",
    "version": 3
   },
   "file_extension": ".py",
   "mimetype": "text/x-python",
   "name": "python",
   "nbconvert_exporter": "python",
   "pygments_lexer": "ipython3",
   "version": "3.12.7"
  }
 },
 "nbformat": 4,
 "nbformat_minor": 2
}
