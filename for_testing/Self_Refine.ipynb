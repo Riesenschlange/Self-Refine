{
 "cells": [
  {
   "cell_type": "code",
   "execution_count": 15,
   "metadata": {},
   "outputs": [],
   "source": [
    "import requests\n",
    "from prompts import *\n",
    "import json\n",
    "import pandas as pd"
   ]
  },
  {
   "cell_type": "code",
   "execution_count": 16,
   "metadata": {},
   "outputs": [
    {
     "name": "stdout",
     "output_type": "stream",
     "text": [
      "К сожалению, я не могу выражать личные мнения или давать оценки. Я могу предоставить информацию о культуре и истории США, если вам это поможет!\n"
     ]
    }
   ],
   "source": [
    "\n",
    "llm = \"llama3.1:8b\"\n",
    "url = \"http://sm-a5000-1.gpu.cluster:11435/api/chat\"\n",
    "payload = {\n",
    "    \"model\": llm, \n",
    "    \"messages\": [\n",
    "        {\"role\": \"user\", \"content\": initial_prompt}\n",
    "    ],\n",
    "    \"stream\": False}\n",
    "response = requests.post(url, json = payload)\n",
    "answer = response.json()\n",
    "print(answer[\"message\"][\"content\"])"
   ]
  },
  {
   "cell_type": "code",
   "execution_count": null,
   "metadata": {},
   "outputs": [],
   "source": []
  }
 ],
 "metadata": {
  "kernelspec": {
   "display_name": ".venv",
   "language": "python",
   "name": "python3"
  },
  "language_info": {
   "codemirror_mode": {
    "name": "ipython",
    "version": 3
   },
   "file_extension": ".py",
   "mimetype": "text/x-python",
   "name": "python",
   "nbconvert_exporter": "python",
   "pygments_lexer": "ipython3",
   "version": "3.12.2"
  }
 },
 "nbformat": 4,
 "nbformat_minor": 2
}
